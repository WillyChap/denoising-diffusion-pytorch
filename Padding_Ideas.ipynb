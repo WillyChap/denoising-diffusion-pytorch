{
 "cells": [
  {
   "cell_type": "markdown",
   "id": "9586ae5b-e451-4dbe-9dd2-0c1e8938998f",
   "metadata": {},
   "source": [
    "## If 7 kernel"
   ]
  },
  {
   "cell_type": "code",
   "execution_count": 4,
   "id": "d9627ae6-b870-4299-aff0-89ca38f55fb2",
   "metadata": {},
   "outputs": [
    {
     "data": {
      "text/plain": [
       "torch.Size([1, 6, 32, 32])"
      ]
     },
     "execution_count": 4,
     "metadata": {},
     "output_type": "execute_result"
    }
   ],
   "source": [
    "import torch\n",
    "import torch.nn as nn\n",
    "import torch.nn.functional as F\n",
    "\n",
    "# Define the custom padding function for periodic padding in the longitude direction\n",
    "def periodic_padding(input_tensor, padding_size):\n",
    "    # padding_size is the number of pixels you want to pad on each side\n",
    "    # For left-right padding (longitude), we pad the width (dimension 3 in PyTorch)\n",
    "    \n",
    "    # Apply periodic padding along the width (longitude)\n",
    "    left_pad = input_tensor[:, :, :, -padding_size:]  # Take the last 'padding_size' elements for left padding\n",
    "    right_pad = input_tensor[:, :, :, :padding_size]  # Take the first 'padding_size' elements for right padding\n",
    "\n",
    "    # Concatenate left and right padding with the original tensor\n",
    "    padded_tensor = torch.cat([left_pad, input_tensor, right_pad], dim=3)\n",
    "    \n",
    "    return padded_tensor\n",
    "\n",
    "# Example input: (batch_size=1, channels=3, height=32, width=32)\n",
    "input_tensor = torch.randn(1, 3, 32, 32)\n",
    "\n",
    "# For a 7x7 kernel, padding of 3 is required to maintain spatial dimensions.\n",
    "# Apply periodic padding for the left-right boundaries (padding=3 on each side)\n",
    "padded_tensor = periodic_padding(input_tensor, padding_size=3)\n",
    "\n",
    "# Apply zero padding (or no padding) on the top-bottom direction (height)\n",
    "# In this case, we add padding of 3 pixels at the top and bottom\n",
    "padded_tensor = F.pad(padded_tensor, (0, 0, 3, 3), mode='reflect', value=0)\n",
    "\n",
    "# Define a Conv2d layer with a 7x7 kernel\n",
    "conv_layer = nn.Conv2d(in_channels=3, out_channels=6, kernel_size=7, padding=0)\n",
    "\n",
    "# Apply the Conv2d layer to the padded input tensor\n",
    "output_tensor = conv_layer(padded_tensor)\n",
    "\n",
    "# Print the shape of the output tensor\n",
    "output_tensor.shape\n"
   ]
  },
  {
   "cell_type": "markdown",
   "id": "1c7e2077-5f26-495c-aa40-192081b939be",
   "metadata": {},
   "source": [
    "## if 3 Kernel"
   ]
  },
  {
   "cell_type": "code",
   "execution_count": 3,
   "id": "8c48e0f8-b6c8-440c-8f07-debf2c1833bb",
   "metadata": {},
   "outputs": [
    {
     "data": {
      "text/plain": [
       "torch.Size([1, 6, 32, 32])"
      ]
     },
     "execution_count": 3,
     "metadata": {},
     "output_type": "execute_result"
    }
   ],
   "source": [
    "import torch\n",
    "import torch.nn as nn\n",
    "import torch.nn.functional as F\n",
    "\n",
    "# Define the custom padding function for periodic padding in the longitude direction\n",
    "def periodic_padding(input_tensor, padding_size):\n",
    "    # padding_size is the number of pixels you want to pad on each side\n",
    "    # For left-right padding (longitude), we pad the width (dimension 3 in PyTorch)\n",
    "    \n",
    "    # Apply periodic padding along the width (longitude)\n",
    "    left_pad = input_tensor[:, :, :, -padding_size:]  # Take the last 'padding_size' elements for left padding\n",
    "    right_pad = input_tensor[:, :, :, :padding_size]  # Take the first 'padding_size' elements for right padding\n",
    "\n",
    "    # Concatenate left and right padding with the original tensor\n",
    "    padded_tensor = torch.cat([left_pad, input_tensor, right_pad], dim=3)\n",
    "    \n",
    "    return padded_tensor\n",
    "\n",
    "# Example input: (batch_size=1, channels=3, height=32, width=32)\n",
    "input_tensor = torch.randn(1, 3, 32, 32)\n",
    "\n",
    "# For a 7x7 kernel, padding of 3 is required to maintain spatial dimensions.\n",
    "# Apply periodic padding for the left-right boundaries (padding=3 on each side)\n",
    "padded_tensor = periodic_padding(input_tensor, padding_size=1)\n",
    "\n",
    "# Apply zero padding (or no padding) on the top-bottom direction (height)\n",
    "# In this case, we add padding of 3 pixels at the top and bottom\n",
    "padded_tensor = F.pad(padded_tensor, (0, 0, 1, 1), mode='reflect', value=0)\n",
    "\n",
    "# Define a Conv2d layer with a 7x7 kernel\n",
    "conv_layer = nn.Conv2d(in_channels=3, out_channels=6, kernel_size=3, padding=0)\n",
    "\n",
    "# Apply the Conv2d layer to the padded input tensor\n",
    "output_tensor = conv_layer(padded_tensor)\n",
    "\n",
    "# Print the shape of the output tensor\n",
    "output_tensor.shape\n"
   ]
  },
  {
   "cell_type": "code",
   "execution_count": null,
   "id": "2eac7744-2421-4325-bcd9-dc2221e05f82",
   "metadata": {},
   "outputs": [],
   "source": [
    "import torch\n",
    "import torch.nn as nn\n",
    "import torch.nn.functional as F\n",
    "\n",
    "class MyModel(nn.Module):\n",
    "    def __init__(self, input_channels, init_dim):\n",
    "        super(MyModel, self).__init__()\n",
    "        \n",
    "        # Define Conv2d without internal padding (since we'll apply custom padding)\n",
    "        self.init_conv = nn.Conv2d(input_channels, init_dim, kernel_size=7, padding=0)\n",
    "    \n",
    "    def periodic_padding(self, x, padding_size):\n",
    "        # Apply periodic padding (left-right)\n",
    "        left_pad = x[:, :, :, -padding_size:]  # Last 'padding_size' columns\n",
    "        right_pad = x[:, :, :, :padding_size]  # First 'padding_size' columns\n",
    "        x = torch.cat([left_pad, x, right_pad], dim=3)\n",
    "        \n",
    "        # Apply zero or constant padding (top-bottom)\n",
    "        x = F.pad(x, (0, 0, padding_size, padding_size), mode='constant', value=0)\n",
    "        return x\n",
    "\n",
    "    def forward(self, x):\n",
    "        # Apply custom periodic padding before the convolution\n",
    "        x = self.periodic_padding(x, padding_size=3)\n",
    "        x = self.init_conv(x)  # Apply the convolution\n",
    "        return x\n",
    "\n",
    "# Example usage:\n",
    "input_tensor = torch.randn(1, 3, 32, 32)  # Batch size = 1, channels = 3, height/width = 32x32\n",
    "model = MyModel(input_channels=3, init_dim=64)\n",
    "output = model(input_tensor)\n",
    "\n",
    "output.shape\n"
   ]
  },
  {
   "cell_type": "code",
   "execution_count": null,
   "id": "945d66f9-8287-4dbd-be1b-845275ab4f13",
   "metadata": {},
   "outputs": [],
   "source": []
  },
  {
   "cell_type": "code",
   "execution_count": 5,
   "id": "a95662d3-4060-4ff9-8610-6ba1bbfb40e7",
   "metadata": {},
   "outputs": [],
   "source": [
    "import torch\n",
    "import torch.nn as nn\n",
    "import torch.nn.functional as F\n",
    "from einops.layers.torch import Rearrange\n",
    "\n",
    "# Custom function for periodic padding (left-right periodic)\n",
    "def periodic_padding(input_tensor, padding_size):\n",
    "    left_pad = input_tensor[:, :, :, -padding_size:]  # Last 'padding_size' columns\n",
    "    right_pad = input_tensor[:, :, :, :padding_size]  # First 'padding_size' columns\n",
    "\n",
    "    # Concatenate left and right periodic padding\n",
    "    padded_tensor = torch.cat([left_pad, input_tensor, right_pad], dim=3)\n",
    "    return padded_tensor\n",
    "\n",
    "# Upsample block with periodic padding applied before Conv2d\n",
    "def Upsample(dim, dim_out=None):\n",
    "    return nn.Sequential(\n",
    "        nn.Upsample(scale_factor=2, mode='nearest'),  # Upsample\n",
    "        nn.Conv2d(dim, default(dim_out, dim), kernel_size=3, padding=0),  # No padding here\n",
    "        nn.Lambda(lambda x: periodic_padding(x, padding_size=1))  # Apply custom periodic padding\n",
    "    )\n",
    "\n",
    "# Downsample block with periodic padding applied before Conv2d\n",
    "def Downsample(dim, dim_out=None):\n",
    "    return nn.Sequential(\n",
    "        Rearrange('b c (h p1) (w p2) -> b (c p1 p2) h w', p1=2, p2=2),  # Reshape for downsampling\n",
    "        nn.Conv2d(dim * 4, default(dim_out, dim), kernel_size=1),  # No padding here\n",
    "        nn.Lambda(lambda x: periodic_padding(x, padding_size=1))  # Apply custom periodic padding\n",
    "    )\n"
   ]
  },
  {
   "cell_type": "code",
   "execution_count": null,
   "id": "3fc1af33-220c-4510-8eeb-f8b4f15bdde3",
   "metadata": {},
   "outputs": [],
   "source": []
  }
 ],
 "metadata": {
  "kernelspec": {
   "display_name": "Python (LuRain)",
   "language": "python",
   "name": "lurain"
  },
  "language_info": {
   "codemirror_mode": {
    "name": "ipython",
    "version": 3
   },
   "file_extension": ".py",
   "mimetype": "text/x-python",
   "name": "python",
   "nbconvert_exporter": "python",
   "pygments_lexer": "ipython3",
   "version": "3.11.9"
  }
 },
 "nbformat": 4,
 "nbformat_minor": 5
}
