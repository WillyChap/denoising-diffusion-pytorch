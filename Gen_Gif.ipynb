{
 "cells": [
  {
   "cell_type": "code",
   "execution_count": 2,
   "id": "d91eebf8-4a4f-465f-a43f-98280d316f2a",
   "metadata": {},
   "outputs": [],
   "source": [
    "import imageio"
   ]
  },
  {
   "cell_type": "code",
   "execution_count": 24,
   "id": "23ecdd75-68e2-419c-b0f6-1a59f4df24f2",
   "metadata": {},
   "outputs": [
    {
     "name": "stdout",
     "output_type": "stream",
     "text": [
      "Compressed GIF with pause saved as ./GIF/compressed_AR_GEN.gif\n"
     ]
    }
   ],
   "source": [
    "from PIL import Image\n",
    "import os\n",
    "\n",
    "def create_compressed_gif(image_folder, gif_name, duration=50, resize_factor=0.5, optimize=True, pause_duration=1000):\n",
    "    \"\"\"\n",
    "    Create a compressed GIF from a series of images, optimized for size and speed, with a pause on the last frame.\n",
    "    \n",
    "    Parameters:\n",
    "        image_folder (str): The path to the folder containing the images.\n",
    "        gif_name (str): The name of the output GIF file.\n",
    "        duration (int): The duration between frames in milliseconds.\n",
    "        resize_factor (float): Factor to resize the images (e.g., 0.5 for half the original size).\n",
    "        optimize (bool): Whether to optimize the GIF to reduce file size.\n",
    "        pause_duration (int): Duration for the last frame to pause in milliseconds.\n",
    "    \"\"\"\n",
    "    images = []\n",
    "    \n",
    "    # Get all image files from the folder, sorted in numerical order\n",
    "    for file_name in sorted(os.listdir(image_folder))[-299::2]:  # Adjust frame skipping if needed\n",
    "        if file_name.endswith('.png'):\n",
    "            file_path = os.path.join(image_folder, file_name)\n",
    "            img = Image.open(file_path).convert(\"P\", palette=Image.ADAPTIVE)  # Convert to a palette-based image to reduce colors\n",
    "            \n",
    "            # Resize the image\n",
    "            img = img.resize(\n",
    "                (int(img.width * resize_factor), int(img.height * resize_factor)), \n",
    "                Image.Resampling.LANCZOS  # Use LANCZOS for high-quality downsizing\n",
    "            )\n",
    "            \n",
    "            images.append(img)\n",
    "    \n",
    "    # Ensure there are images to create a GIF\n",
    "    if images:\n",
    "        gif_path = os.path.join(image_folder, gif_name)\n",
    "        \n",
    "        # Set up durations: Regular duration for all frames, longer for the last frame\n",
    "        durations = [duration] * (len(images) - 1) + [pause_duration]\n",
    "        \n",
    "        images[0].save(gif_path, save_all=True, append_images=images[1:], duration=durations, loop=0, optimize=optimize)\n",
    "        print(f\"Compressed GIF with pause saved as {gif_path}\")\n",
    "    else:\n",
    "        print(\"No images found to create a GIF.\")\n",
    "\n",
    "# Example usage:\n",
    "create_compressed_gif('./GIF', 'compressed_AR_GEN.gif', duration=50, resize_factor=0.75, pause_duration=2000)\n"
   ]
  },
  {
   "cell_type": "code",
   "execution_count": null,
   "id": "0a8ef8b7-90ca-4720-8ada-90f22abe3d35",
   "metadata": {},
   "outputs": [],
   "source": []
  }
 ],
 "metadata": {
  "kernelspec": {
   "display_name": "NPL 2024a",
   "language": "python",
   "name": "npl-2024a"
  },
  "language_info": {
   "codemirror_mode": {
    "name": "ipython",
    "version": 3
   },
   "file_extension": ".py",
   "mimetype": "text/x-python",
   "name": "python",
   "nbconvert_exporter": "python",
   "pygments_lexer": "ipython3",
   "version": "3.11.6"
  }
 },
 "nbformat": 4,
 "nbformat_minor": 5
}
